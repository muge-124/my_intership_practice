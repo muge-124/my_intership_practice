{
 "cells": [
  {
   "cell_type": "code",
   "execution_count": 2,
   "id": "3a3e1438",
   "metadata": {},
   "outputs": [],
   "source": [
    "from sklearn.datasets import load_sample_images\n",
    "import tensorflow as tf"
   ]
  },
  {
   "cell_type": "code",
   "execution_count": 3,
   "id": "554a6c36",
   "metadata": {},
   "outputs": [],
   "source": [
    "images=load_sample_images()[\"images\"]"
   ]
  },
  {
   "cell_type": "code",
   "execution_count": 4,
   "id": "e2f57100",
   "metadata": {},
   "outputs": [
    {
     "data": {
      "text/plain": [
       "(427, 640, 3)"
      ]
     },
     "execution_count": 4,
     "metadata": {},
     "output_type": "execute_result"
    }
   ],
   "source": [
    "images[0].shape"
   ]
  },
  {
   "cell_type": "code",
   "execution_count": 5,
   "id": "3f7541fb",
   "metadata": {},
   "outputs": [],
   "source": [
    "#bu method sayeseinde resmin boyutlarını küçültebiliyorum\n",
    "images=tf.keras.layers.CenterCrop(height=80 ,width=120)(images)\n",
    "#resimleri ölçeklendiriyorum\n",
    "images=tf.keras.layers.Rescaling(scale=1/255)(images)\n"
   ]
  },
  {
   "cell_type": "code",
   "execution_count": 6,
   "id": "1848ea8b",
   "metadata": {},
   "outputs": [
    {
     "data": {
      "text/plain": [
       "TensorShape([2, 80, 120, 3])"
      ]
     },
     "execution_count": 6,
     "metadata": {},
     "output_type": "execute_result"
    }
   ],
   "source": [
    "images.shape\n",
    "#4 boyutlu oldu "
   ]
  },
  {
   "cell_type": "code",
   "execution_count": 18,
   "id": "57c28638",
   "metadata": {},
   "outputs": [],
   "source": [
    "#convolotion\n",
    "conv_layer=tf.keras.layers.Conv2D(filters=32 , kernel_size=7)"
   ]
  },
  {
   "cell_type": "code",
   "execution_count": 19,
   "id": "d6a7a8ea",
   "metadata": {},
   "outputs": [],
   "source": [
    "fmaps=conv_layer(images)\n",
    "#bu katmandan resimleri geçriyoruz"
   ]
  },
  {
   "cell_type": "code",
   "execution_count": 20,
   "id": "78b103d4",
   "metadata": {},
   "outputs": [],
   "source": [
    "#fmaps.shape"
   ]
  },
  {
   "cell_type": "code",
   "execution_count": 21,
   "id": "b6c6f875",
   "metadata": {},
   "outputs": [],
   "source": [
    "conv_layer=tf.keras.layers.Conv2D(filters=32 , kernel_size=7 ,padding= \"same\")"
   ]
  },
  {
   "cell_type": "code",
   "execution_count": 23,
   "id": "8385d8ec",
   "metadata": {},
   "outputs": [],
   "source": [
    "fmaps=conv_layer(images)"
   ]
  },
  {
   "cell_type": "code",
   "execution_count": 24,
   "id": "ca742390",
   "metadata": {},
   "outputs": [
    {
     "data": {
      "text/plain": [
       "TensorShape([2, 80, 120, 32])"
      ]
     },
     "execution_count": 24,
     "metadata": {},
     "output_type": "execute_result"
    }
   ],
   "source": [
    "fmaps.shape"
   ]
  },
  {
   "cell_type": "code",
   "execution_count": 25,
   "id": "0f0fb670",
   "metadata": {},
   "outputs": [],
   "source": [
    "kernels ,biases =conv_layer.get_weights()"
   ]
  },
  {
   "cell_type": "code",
   "execution_count": 26,
   "id": "e0a24599",
   "metadata": {},
   "outputs": [
    {
     "data": {
      "text/plain": [
       "(7, 7, 3, 32)"
      ]
     },
     "execution_count": 26,
     "metadata": {},
     "output_type": "execute_result"
    }
   ],
   "source": [
    "kernels.shape"
   ]
  },
  {
   "cell_type": "code",
   "execution_count": 28,
   "id": "1a99b8c2",
   "metadata": {},
   "outputs": [
    {
     "data": {
      "text/plain": [
       "(32,)"
      ]
     },
     "execution_count": 28,
     "metadata": {},
     "output_type": "execute_result"
    }
   ],
   "source": [
    "#bias 'ın boyutu 1 dir \n",
    "biases.shape\n"
   ]
  },
  {
   "cell_type": "code",
   "execution_count": 29,
   "id": "d7147145",
   "metadata": {},
   "outputs": [],
   "source": [
    "#çıkan sonucları pooling katmanından geçiriyoruz\n",
    "\n",
    "max_pool =tf.keras.layers.MaxPool2D(pool_size=2)"
   ]
  },
  {
   "cell_type": "code",
   "execution_count": 30,
   "id": "9fd6e142",
   "metadata": {},
   "outputs": [],
   "source": [
    "output=max_pool(images)"
   ]
  },
  {
   "cell_type": "code",
   "execution_count": 31,
   "id": "91b021f5",
   "metadata": {},
   "outputs": [
    {
     "data": {
      "text/plain": [
       "TensorShape([2, 40, 60, 3])"
      ]
     },
     "execution_count": 31,
     "metadata": {},
     "output_type": "execute_result"
    }
   ],
   "source": [
    "output.shape\n",
    "#havuzlama ile resimlerin boyutları yarı yarıya düşmüş oldu"
   ]
  },
  {
   "cell_type": "code",
   "execution_count": 32,
   "id": "676dde60",
   "metadata": {},
   "outputs": [],
   "source": [
    "#özellik haritalarının boyutunu azaltmak için kullanılır\n",
    "#Gap genelde son evrişimli katmandan sonra kullanılır\n",
    "gloabal_average_pool=tf.keras.layers.GlobalAvgPool2D()"
   ]
  },
  {
   "cell_type": "code",
   "execution_count": 33,
   "id": "1484e899",
   "metadata": {},
   "outputs": [
    {
     "data": {
      "text/plain": [
       "<tf.Tensor: shape=(2, 3), dtype=float32, numpy=\n",
       "array([[0.6368122 , 0.595365  , 0.5791015 ],\n",
       "       [0.76797295, 0.26938868, 0.11366344]], dtype=float32)>"
      ]
     },
     "execution_count": 33,
     "metadata": {},
     "output_type": "execute_result"
    }
   ],
   "source": [
    "gloabal_average_pool(images)\n",
    " 2 resim olduğu için 3 değerli 2 resim elde edildi"
   ]
  },
  {
   "cell_type": "code",
   "execution_count": null,
   "id": "d4ce1776",
   "metadata": {},
   "outputs": [],
   "source": []
  }
 ],
 "metadata": {
  "kernelspec": {
   "display_name": "Python 3 (ipykernel)",
   "language": "python",
   "name": "python3"
  },
  "language_info": {
   "codemirror_mode": {
    "name": "ipython",
    "version": 3
   },
   "file_extension": ".py",
   "mimetype": "text/x-python",
   "name": "python",
   "nbconvert_exporter": "python",
   "pygments_lexer": "ipython3",
   "version": "3.11.3"
  }
 },
 "nbformat": 4,
 "nbformat_minor": 5
}
